{
 "cells": [
  {
   "cell_type": "code",
   "execution_count": 19,
   "id": "572c8b2b",
   "metadata": {},
   "outputs": [
    {
     "name": "stdout",
     "output_type": "stream",
     "text": [
      "1.76 µs ± 43.6 ns per loop (mean ± std. dev. of 7 runs, 1000000 loops each)\n"
     ]
    }
   ],
   "source": [
    "%timeit [j**4 for j in range(1,9)]"
   ]
  },
  {
   "cell_type": "code",
   "execution_count": 17,
   "id": "9fa30146",
   "metadata": {},
   "outputs": [
    {
     "name": "stdout",
     "output_type": "stream",
     "text": [
      "1.61 µs ± 22.8 ns per loop (mean ± std. dev. of 7 runs, 1000000 loops each)\n"
     ]
    }
   ],
   "source": [
    "import numpy as np\n",
    "%timeit np.arange(1,9)**4"
   ]
  },
  {
   "cell_type": "code",
   "execution_count": 2,
   "id": "4674732c",
   "metadata": {},
   "outputs": [
    {
     "name": "stdout",
     "output_type": "stream",
     "text": [
      "[1 2 3 4 5]\n",
      "<class 'numpy.ndarray'>\n"
     ]
    }
   ],
   "source": [
    "import numpy as np\n",
    "x=[1,2,3,5]\n",
    "y=np.array([1,2,3,4,5])\n",
    "print(y)\n",
    "print(type(y))"
   ]
  },
  {
   "cell_type": "code",
   "execution_count": 15,
   "id": "6ac67751",
   "metadata": {},
   "outputs": [
    {
     "name": "stdout",
     "output_type": "stream",
     "text": [
      "enter : 45\n",
      "enter : 67\n",
      "enter : 87\n",
      "enter : 12\n",
      "[45 67 87 12]\n"
     ]
    }
   ],
   "source": [
    "l=[]\n",
    "\n",
    "for i in range(1,5):\n",
    "    int_1=int(input(\"enter : \"))\n",
    "    l.append(int_1)\n",
    "    \n",
    "print(np.array(l))   "
   ]
  },
  {
   "cell_type": "code",
   "execution_count": 14,
   "id": "ed35aaf3",
   "metadata": {},
   "outputs": [
    {
     "name": "stdout",
     "output_type": "stream",
     "text": [
      "[[[1 2 3]\n",
      "  [1 4 5]\n",
      "  [1 7 8]]]\n",
      "3\n"
     ]
    }
   ],
   "source": [
    "import numpy as np\n",
    "ar3=np.array([[[1,2,3],[1,4,5],[1,7,8]]])\n",
    "print(ar3)\n",
    "print(ar3.ndim)"
   ]
  },
  {
   "cell_type": "code",
   "execution_count": 13,
   "id": "980b8943",
   "metadata": {},
   "outputs": [
    {
     "ename": "SyntaxError",
     "evalue": "expression cannot contain assignment, perhaps you meant \"==\"? (3006133081.py, line 1)",
     "output_type": "error",
     "traceback": [
      "\u001b[1;36m  File \u001b[1;32m\"C:\\Users\\shaw3\\AppData\\Local\\Temp\\ipykernel_16696\\3006133081.py\"\u001b[1;36m, line \u001b[1;32m1\u001b[0m\n\u001b[1;33m    arn=np.array([1,2,3,4].ndmin=10)\u001b[0m\n\u001b[1;37m                 ^\u001b[0m\n\u001b[1;31mSyntaxError\u001b[0m\u001b[1;31m:\u001b[0m expression cannot contain assignment, perhaps you meant \"==\"?\n"
     ]
    }
   ],
   "source": [
    "arn=np.array([1,2,3,4].ndmin=10)\n",
    "print(arn)\n",
    "print(arn.ndim)\n"
   ]
  },
  {
   "cell_type": "code",
   "execution_count": 12,
   "id": "9f0968e4",
   "metadata": {},
   "outputs": [
    {
     "name": "stdout",
     "output_type": "stream",
     "text": [
      "[[[[[[[[[[1 2 3 4]]]]]]]]]]\n",
      "10\n"
     ]
    }
   ],
   "source": [
    "arn=np.array([1,2,3,4],ndmin=10)\n",
    "print(arn)\n",
    "print(arn.ndim)"
   ]
  },
  {
   "cell_type": "markdown",
   "id": "37020595",
   "metadata": {},
   "source": [
    "# ones"
   ]
  },
  {
   "cell_type": "code",
   "execution_count": 11,
   "id": "95b32f03",
   "metadata": {},
   "outputs": [
    {
     "name": "stdout",
     "output_type": "stream",
     "text": [
      "[1. 1. 1. 1.]\n"
     ]
    }
   ],
   "source": [
    "ar_one=np.ones(4)\n",
    "print(ar_one)\n"
   ]
  },
  {
   "cell_type": "markdown",
   "id": "74246acb",
   "metadata": {},
   "source": [
    "# empty"
   ]
  },
  {
   "cell_type": "code",
   "execution_count": 10,
   "id": "6a05a09c",
   "metadata": {},
   "outputs": [
    {
     "name": "stdout",
     "output_type": "stream",
     "text": [
      "[ 5. 10. 15. 20.]\n"
     ]
    }
   ],
   "source": [
    "ar_em=np.empty(4)\n",
    "print(ar_em)"
   ]
  },
  {
   "cell_type": "markdown",
   "id": "01a59ba8",
   "metadata": {},
   "source": [
    "# range"
   ]
  },
  {
   "cell_type": "code",
   "execution_count": 9,
   "id": "29518ee3",
   "metadata": {},
   "outputs": [
    {
     "name": "stdout",
     "output_type": "stream",
     "text": [
      "[0 1 2 3 4]\n"
     ]
    }
   ],
   "source": [
    "ar_rn=np.arange(5)\n",
    "print(ar_rn)"
   ]
  },
  {
   "cell_type": "markdown",
   "id": "e825d282",
   "metadata": {},
   "source": [
    "# diagonal"
   ]
  },
  {
   "cell_type": "code",
   "execution_count": 8,
   "id": "6f523ee2",
   "metadata": {},
   "outputs": [
    {
     "name": "stdout",
     "output_type": "stream",
     "text": [
      "[[1. 0. 0.]\n",
      " [0. 1. 0.]\n",
      " [0. 0. 1.]]\n"
     ]
    }
   ],
   "source": [
    "ar_dia=np.eye(3)\n",
    "print(ar_dia)"
   ]
  },
  {
   "cell_type": "code",
   "execution_count": 7,
   "id": "cb3e239b",
   "metadata": {},
   "outputs": [
    {
     "name": "stdout",
     "output_type": "stream",
     "text": [
      "[[1. 0. 0. 0. 0.]\n",
      " [0. 1. 0. 0. 0.]\n",
      " [0. 0. 1. 0. 0.]]\n"
     ]
    }
   ],
   "source": [
    "ar_dia=np.eye(3,5)\n",
    "print(ar_dia)"
   ]
  },
  {
   "cell_type": "markdown",
   "id": "1eeaa7f4",
   "metadata": {},
   "source": [
    "# linespace"
   ]
  },
  {
   "cell_type": "code",
   "execution_count": 6,
   "id": "a42340e8",
   "metadata": {},
   "outputs": [
    {
     "name": "stdout",
     "output_type": "stream",
     "text": [
      "[ 0.  5. 10. 15. 20.]\n"
     ]
    }
   ],
   "source": [
    "ar_lin=np.linspace(0,20,num=5)\n",
    "print(ar_lin)"
   ]
  },
  {
   "cell_type": "markdown",
   "id": "4dab7510",
   "metadata": {},
   "source": [
    "# random"
   ]
  },
  {
   "cell_type": "code",
   "execution_count": 2,
   "id": "d8232326",
   "metadata": {},
   "outputs": [
    {
     "name": "stdout",
     "output_type": "stream",
     "text": [
      "[[-0.0762446   1.38626506  0.91390234  1.54539215  0.27904722]\n",
      " [ 1.31334525  0.40768271 -1.66448815  1.74808664 -1.05457936]]\n"
     ]
    }
   ],
   "source": [
    "import numpy as np\n",
    "var=np.random.randn(2,5)\n",
    "print(var)"
   ]
  },
  {
   "cell_type": "code",
   "execution_count": 3,
   "id": "e535eac5",
   "metadata": {},
   "outputs": [
    {
     "name": "stdout",
     "output_type": "stream",
     "text": [
      "[[0.44157522 0.23533552 0.73036976 0.01422851 0.87884414]\n",
      " [0.03487657 0.3464118  0.61854046 0.79150828 0.94000338]]\n"
     ]
    }
   ],
   "source": [
    "var1=np.random.rand(2,5)\n",
    "print(var1)"
   ]
  },
  {
   "cell_type": "code",
   "execution_count": 22,
   "id": "af61f975",
   "metadata": {},
   "outputs": [
    {
     "name": "stdout",
     "output_type": "stream",
     "text": [
      "[0.69165273 0.16739681 0.70028249 0.62198476]\n"
     ]
    }
   ],
   "source": [
    "var3=np.random.ranf(4)\n",
    "print(var3)"
   ]
  },
  {
   "cell_type": "code",
   "execution_count": 21,
   "id": "495d5d62",
   "metadata": {},
   "outputs": [
    {
     "ename": "AttributeError",
     "evalue": "module 'numpy' has no attribute 'randint'",
     "output_type": "error",
     "traceback": [
      "\u001b[1;31m---------------------------------------------------------------------------\u001b[0m",
      "\u001b[1;31mAttributeError\u001b[0m                            Traceback (most recent call last)",
      "\u001b[1;32m~\\AppData\\Local\\Temp\\ipykernel_16696\\2601134259.py\u001b[0m in \u001b[0;36m<module>\u001b[1;34m\u001b[0m\n\u001b[1;32m----> 1\u001b[1;33m \u001b[0mvar4\u001b[0m\u001b[1;33m=\u001b[0m\u001b[0mnp\u001b[0m\u001b[1;33m.\u001b[0m\u001b[0mrandint\u001b[0m\u001b[1;33m(\u001b[0m\u001b[1;36m5\u001b[0m\u001b[1;33m,\u001b[0m\u001b[1;36m20\u001b[0m\u001b[1;33m,\u001b[0m\u001b[1;36m5\u001b[0m\u001b[1;33m)\u001b[0m\u001b[1;33m\u001b[0m\u001b[1;33m\u001b[0m\u001b[0m\n\u001b[0m\u001b[0;32m      2\u001b[0m \u001b[0mprint\u001b[0m\u001b[1;33m(\u001b[0m\u001b[0mvar4\u001b[0m\u001b[1;33m)\u001b[0m\u001b[1;33m\u001b[0m\u001b[1;33m\u001b[0m\u001b[0m\n",
      "\u001b[1;32m~\\anaconda3\\lib\\site-packages\\numpy\\__init__.py\u001b[0m in \u001b[0;36m__getattr__\u001b[1;34m(attr)\u001b[0m\n\u001b[0;32m    311\u001b[0m                 \u001b[1;32mreturn\u001b[0m \u001b[0mTester\u001b[0m\u001b[1;33m\u001b[0m\u001b[1;33m\u001b[0m\u001b[0m\n\u001b[0;32m    312\u001b[0m \u001b[1;33m\u001b[0m\u001b[0m\n\u001b[1;32m--> 313\u001b[1;33m             raise AttributeError(\"module {!r} has no attribute \"\n\u001b[0m\u001b[0;32m    314\u001b[0m                                  \"{!r}\".format(__name__, attr))\n\u001b[0;32m    315\u001b[0m \u001b[1;33m\u001b[0m\u001b[0m\n",
      "\u001b[1;31mAttributeError\u001b[0m: module 'numpy' has no attribute 'randint'"
     ]
    }
   ],
   "source": [
    "var4=np.randint(5,20,5)\n",
    "print(var4)\n"
   ]
  },
  {
   "cell_type": "markdown",
   "id": "625a6768",
   "metadata": {},
   "source": [
    "# DATA types"
   ]
  },
  {
   "cell_type": "code",
   "execution_count": 23,
   "id": "eb923b7f",
   "metadata": {},
   "outputs": [
    {
     "name": "stdout",
     "output_type": "stream",
     "text": [
      "Data type: float64\n"
     ]
    }
   ],
   "source": [
    "var=np.array([1.0,2.0,4.5])\n",
    "print(\"Data type:\",var.dtype)"
   ]
  },
  {
   "cell_type": "code",
   "execution_count": 24,
   "id": "f70cf9f0",
   "metadata": {},
   "outputs": [
    {
     "name": "stdout",
     "output_type": "stream",
     "text": [
      "Data type: int32\n"
     ]
    }
   ],
   "source": [
    "var=np.array([1,2,3,5,14])\n",
    "print(\"Data type:\",var.dtype)"
   ]
  },
  {
   "cell_type": "code",
   "execution_count": 25,
   "id": "7da4feac",
   "metadata": {},
   "outputs": [
    {
     "name": "stdout",
     "output_type": "stream",
     "text": [
      "Data type: <U1\n"
     ]
    }
   ],
   "source": [
    "var=np.array([\"a\",\"S\",\"T\",\"p\"])\n",
    "print(\"Data type:\",var.dtype)"
   ]
  },
  {
   "cell_type": "code",
   "execution_count": 28,
   "id": "4621025b",
   "metadata": {},
   "outputs": [
    {
     "name": "stdout",
     "output_type": "stream",
     "text": [
      "Data type int8\n"
     ]
    }
   ],
   "source": [
    "x=np.array([1,2,3,4],dtype=np.int8)\n",
    "print(\"Data type\",x.dtype)"
   ]
  },
  {
   "cell_type": "code",
   "execution_count": 3,
   "id": "47b94ba3",
   "metadata": {},
   "outputs": [
    {
     "name": "stdout",
     "output_type": "stream",
     "text": [
      "Data type: int32\n",
      "Data type: float32\n",
      "Data type: float32\n",
      "Data type: int32\n",
      "[1 2 3 4]\n",
      "[1. 2. 3. 4.]\n",
      "[1 2 3 4]\n"
     ]
    }
   ],
   "source": [
    "x2=np.array([1,2,3,4])\n",
    "new=np.float32(x2)\n",
    "new_one=np.int_(new)\n",
    "print(\"Data type:\",x2.dtype)\n",
    "print(\"Data type:\",new.dtype)\n",
    "print(\"Data type:\",new.dtype)\n",
    "print(\"Data type:\",new_one.dtype)\n",
    "\n",
    "print(x2)\n",
    "print(new)\n",
    "print(new_one)"
   ]
  },
  {
   "cell_type": "code",
   "execution_count": 4,
   "id": "640fbf43",
   "metadata": {},
   "outputs": [
    {
     "name": "stdout",
     "output_type": "stream",
     "text": [
      "[1 2 3 4]\n",
      "[1. 2. 3. 4.]\n"
     ]
    }
   ],
   "source": [
    "x3=np.array([1,2,3,4])\n",
    "new_1=x3.astype(float)\n",
    "\n",
    "print(x3)\n",
    "print(new_1)"
   ]
  },
  {
   "cell_type": "code",
   "execution_count": 7,
   "id": "c72ecc48",
   "metadata": {},
   "outputs": [
    {
     "name": "stdout",
     "output_type": "stream",
     "text": [
      "[[1 2 3 4]\n",
      " [1 2 3 4]]\n",
      "\n",
      "(2, 4)\n"
     ]
    }
   ],
   "source": [
    "var=np.array([[1,2,3,4],[1,2,3,4]])\n",
    "print(var)\n",
    "print()\n",
    "print(var.shape)"
   ]
  },
  {
   "cell_type": "code",
   "execution_count": 9,
   "id": "fb56da27",
   "metadata": {},
   "outputs": [
    {
     "name": "stdout",
     "output_type": "stream",
     "text": [
      "[[[[1 2 3 4]]]]\n",
      "4\n",
      "(1, 1, 1, 4)\n"
     ]
    }
   ],
   "source": [
    "var1=np.array([1,2,3,4],ndmin=4)\n",
    "print(var1)\n",
    "print(var1.ndim)\n",
    "print(var1.shape)"
   ]
  },
  {
   "cell_type": "code",
   "execution_count": 10,
   "id": "13f82b2d",
   "metadata": {},
   "outputs": [],
   "source": [
    "#[1,2,3,4]-> denotes to rows and 4(is elemnts)(1,2,3,4) denotes columns"
   ]
  },
  {
   "cell_type": "markdown",
   "id": "8e4405eb",
   "metadata": {},
   "source": [
    "# reshape"
   ]
  },
  {
   "cell_type": "code",
   "execution_count": 18,
   "id": "1550bb17",
   "metadata": {},
   "outputs": [
    {
     "name": "stdout",
     "output_type": "stream",
     "text": [
      "[1 2 3 4 5 6]\n",
      "1\n",
      "\n",
      "[[1 2]\n",
      " [3 4]\n",
      " [5 6]]\n",
      "2\n"
     ]
    }
   ],
   "source": [
    "var2= np.array([1,2,3,4,5,6])\n",
    "#var3=np.array([1,2,3,4,5,6[1,2,9]])\n",
    "print(var2)\n",
    "print(var2.ndim)\n",
    "\n",
    "print()\n",
    "#print(var3)\n",
    "\n",
    "x=var2.reshape(3,2)\n",
    "#x1=var.reshape(3,3)\n",
    "print(x)\n",
    "print(x.ndim)"
   ]
  },
  {
   "cell_type": "code",
   "execution_count": 26,
   "id": "1d7aec2f",
   "metadata": {},
   "outputs": [
    {
     "name": "stdout",
     "output_type": "stream",
     "text": [
      "[ 1  2  3  4  5  6  7  8  9 10 11 12]\n",
      "1\n",
      "\n",
      "[[[ 1  2]\n",
      "  [ 3  4]]\n",
      "\n",
      " [[ 5  6]\n",
      "  [ 7  8]]\n",
      "\n",
      " [[ 9 10]\n",
      "  [11 12]]]\n",
      "3\n"
     ]
    }
   ],
   "source": [
    "var3= np.array([1,2,3,4,5,6,7,8,9,10,11,12])\n",
    "print(var3)\n",
    "print(var3.ndim)\n",
    "\n",
    "print()\n",
    "#print(var3)\n",
    "\n",
    "x=var3.reshape(3,2,2)\n",
    "print(x)\n",
    "print(x.ndim)"
   ]
  },
  {
   "cell_type": "code",
   "execution_count": 27,
   "id": "ed7ddf4c",
   "metadata": {},
   "outputs": [
    {
     "name": "stdout",
     "output_type": "stream",
     "text": [
      "[ 1  2  3  4  5  6  7  8  9 10 11 12]\n",
      "1\n",
      "\n",
      "[[[ 1  2]\n",
      "  [ 3  4]]\n",
      "\n",
      " [[ 5  6]\n",
      "  [ 7  8]]\n",
      "\n",
      " [[ 9 10]\n",
      "  [11 12]]]\n",
      "3\n",
      "[ 1  2  3  4  5  6  7  8  9 10 11 12]\n",
      "1\n"
     ]
    }
   ],
   "source": [
    "var3= np.array([1,2,3,4,5,6,7,8,9,10,11,12])\n",
    "print(var3)\n",
    "print(var3.ndim)\n",
    "\n",
    "print()\n",
    "#print(var3)\n",
    "\n",
    "x=var3.reshape(3,2,2)\n",
    "print(x)\n",
    "print(x.ndim)\n",
    "\n",
    "one=x.reshape(-1)\n",
    "print(one)\n",
    "print(one.ndim)"
   ]
  },
  {
   "cell_type": "markdown",
   "id": "333b5831",
   "metadata": {},
   "source": [
    "# Arithmatic operation"
   ]
  },
  {
   "cell_type": "code",
   "execution_count": 28,
   "id": "642c6631",
   "metadata": {},
   "outputs": [
    {
     "name": "stdout",
     "output_type": "stream",
     "text": [
      "[4 5 6 7]\n"
     ]
    }
   ],
   "source": [
    "var=np.array([1,2,3,4])\n",
    "varadd=var + 3\n",
    "print(varadd)"
   ]
  },
  {
   "cell_type": "code",
   "execution_count": 29,
   "id": "d240db64",
   "metadata": {},
   "outputs": [
    {
     "name": "stdout",
     "output_type": "stream",
     "text": [
      "[ 2  6  8 12]\n"
     ]
    }
   ],
   "source": [
    "var1=np.array([1,2,3,4])\n",
    "var2=np.array([1,4,5,8])\n",
    "varadd=var1+var2\n",
    "print(varadd)"
   ]
  },
  {
   "cell_type": "code",
   "execution_count": 30,
   "id": "3f7e6b0e",
   "metadata": {},
   "outputs": [
    {
     "name": "stdout",
     "output_type": "stream",
     "text": [
      "[ 1  8 15 32]\n"
     ]
    }
   ],
   "source": [
    "var1=np.array([1,2,3,4])\n",
    "var2=np.array([1,4,5,8])\n",
    "varadd=var1*var2\n",
    "print(varadd)"
   ]
  },
  {
   "cell_type": "code",
   "execution_count": 31,
   "id": "f6dfc171",
   "metadata": {},
   "outputs": [
    {
     "name": "stdout",
     "output_type": "stream",
     "text": [
      "[0.33333333 0.66666667 1.         1.33333333]\n"
     ]
    }
   ],
   "source": [
    "var=np.array([1,2,3,4])\n",
    "varadd=var / 3\n",
    "print(varadd)"
   ]
  },
  {
   "cell_type": "code",
   "execution_count": 32,
   "id": "d1949fd0",
   "metadata": {},
   "outputs": [
    {
     "name": "stdout",
     "output_type": "stream",
     "text": [
      "[1 2 0 1]\n"
     ]
    }
   ],
   "source": [
    "var=np.array([1,2,3,4])\n",
    "varadd=var % 3\n",
    "print(varadd)"
   ]
  },
  {
   "cell_type": "code",
   "execution_count": 42,
   "id": "193ace7f",
   "metadata": {},
   "outputs": [
    {
     "ename": "TypeError",
     "evalue": "remainder() takes from 2 to 3 positional arguments but 1 were given",
     "output_type": "error",
     "traceback": [
      "\u001b[1;31m---------------------------------------------------------------------------\u001b[0m",
      "\u001b[1;31mTypeError\u001b[0m                                 Traceback (most recent call last)",
      "\u001b[1;32m~\\AppData\\Local\\Temp\\ipykernel_12524\\679432147.py\u001b[0m in \u001b[0;36m<module>\u001b[1;34m\u001b[0m\n\u001b[0;32m      1\u001b[0m \u001b[0mvar\u001b[0m\u001b[1;33m=\u001b[0m\u001b[0mnp\u001b[0m\u001b[1;33m.\u001b[0m\u001b[0marray\u001b[0m\u001b[1;33m(\u001b[0m\u001b[1;33m[\u001b[0m\u001b[1;36m1\u001b[0m\u001b[1;33m,\u001b[0m\u001b[1;36m2\u001b[0m\u001b[1;33m,\u001b[0m\u001b[1;36m3\u001b[0m\u001b[1;33m,\u001b[0m\u001b[1;36m4\u001b[0m\u001b[1;33m]\u001b[0m\u001b[1;33m)\u001b[0m\u001b[1;33m\u001b[0m\u001b[1;33m\u001b[0m\u001b[0m\n\u001b[1;32m----> 2\u001b[1;33m \u001b[0mvar1\u001b[0m\u001b[1;33m=\u001b[0m\u001b[0mnp\u001b[0m\u001b[1;33m.\u001b[0m\u001b[0mmod\u001b[0m\u001b[1;33m(\u001b[0m\u001b[1;36m3\u001b[0m\u001b[1;33m)\u001b[0m\u001b[1;33m\u001b[0m\u001b[1;33m\u001b[0m\u001b[0m\n\u001b[0m\u001b[0;32m      3\u001b[0m \u001b[0mprint\u001b[0m\u001b[1;33m(\u001b[0m\u001b[0mvar1\u001b[0m\u001b[1;33m)\u001b[0m\u001b[1;33m\u001b[0m\u001b[1;33m\u001b[0m\u001b[0m\n",
      "\u001b[1;31mTypeError\u001b[0m: remainder() takes from 2 to 3 positional arguments but 1 were given"
     ]
    }
   ],
   "source": [
    "var=np.array([1,2,3,4])\n",
    "var1=\n",
    "print(var1)"
   ]
  },
  {
   "cell_type": "code",
   "execution_count": 37,
   "id": "6fe849dd",
   "metadata": {},
   "outputs": [
    {
     "name": "stdout",
     "output_type": "stream",
     "text": [
      "[ 1  8 15 32]\n"
     ]
    }
   ],
   "source": [
    "var1=np.array([1,2,3,4])\n",
    "var2=np.array([1,4,5,8])\n",
    "varadd=np.multiply(var1,var2)\n",
    "print(varadd)"
   ]
  },
  {
   "cell_type": "code",
   "execution_count": 39,
   "id": "ad560279",
   "metadata": {},
   "outputs": [
    {
     "name": "stdout",
     "output_type": "stream",
     "text": [
      "[1 0 0 0]\n"
     ]
    }
   ],
   "source": [
    "var=np.array([1,2,3,4])\n",
    "varadd=np.reciprocal(var)\n",
    "print(varadd)"
   ]
  },
  {
   "cell_type": "code",
   "execution_count": 35,
   "id": "ad8ce9d1",
   "metadata": {},
   "outputs": [
    {
     "name": "stdout",
     "output_type": "stream",
     "text": [
      "[ 2  6  8 12]\n"
     ]
    }
   ],
   "source": [
    "var1=np.array([1,2,3,4])\n",
    "var2=np.array([1,4,5,8])\n",
    "varadd=np.add(var1,var2)\n",
    "print(varadd)"
   ]
  },
  {
   "cell_type": "markdown",
   "id": "02dfb415",
   "metadata": {},
   "source": [
    "# 2d array"
   ]
  },
  {
   "cell_type": "code",
   "execution_count": 38,
   "id": "a1683af1",
   "metadata": {},
   "outputs": [
    {
     "name": "stdout",
     "output_type": "stream",
     "text": [
      "[[1 2 3 4]\n",
      " [2 4 5 9]]\n",
      "\n",
      "[[1 2 3 4]\n",
      " [2 4 5 9]]\n",
      "\n",
      "[[ 2  4  6  8]\n",
      " [ 4  8 10 18]]\n"
     ]
    }
   ],
   "source": [
    "var21=np.array([[1,2,3,4],[2,4,5,9]])\n",
    "var22=np.array([[1,2,3,4],[2,4,5,9]])\n",
    "\n",
    "print(var21)\n",
    "print()\n",
    "print(var22)\n",
    "print()\n",
    "\n",
    "varadd2= var21+ var22\n",
    "print(varadd2)"
   ]
  },
  {
   "cell_type": "code",
   "execution_count": 46,
   "id": "c8030114",
   "metadata": {},
   "outputs": [
    {
     "name": "stdout",
     "output_type": "stream",
     "text": [
      "min: 1 0\n",
      "max: 8 2\n"
     ]
    }
   ],
   "source": [
    "var=np.array([1,7,8,5,6,4,3])\n",
    "print(\"min:\",np.min(var))\n",
    "print(\"max:\",np.max(var))\n",
    "print(\"min:\",np.min(var),np.argmin(var))\n",
    "print(\"max:\",np.max(var),np.argmax(var))"
   ]
  },
  {
   "cell_type": "code",
   "execution_count": 47,
   "id": "3d554728",
   "metadata": {},
   "outputs": [
    {
     "name": "stdout",
     "output_type": "stream",
     "text": [
      "[1 2]\n"
     ]
    }
   ],
   "source": [
    "var1=np.array([[2,1,3],[2,5,6]])\n",
    "print(np.min(var1,axis=1))"
   ]
  },
  {
   "cell_type": "code",
   "execution_count": 48,
   "id": "4964a97c",
   "metadata": {},
   "outputs": [
    {
     "name": "stdout",
     "output_type": "stream",
     "text": [
      "[2 1 3]\n"
     ]
    }
   ],
   "source": [
    "var1=np.array([[2,1,3],[2,5,6]])\n",
    "print(np.min(var1,axis=0))"
   ]
  },
  {
   "cell_type": "code",
   "execution_count": 49,
   "id": "fdd77a9c",
   "metadata": {},
   "outputs": [
    {
     "name": "stdout",
     "output_type": "stream",
     "text": [
      "sqrt: [1.         2.64575131 2.82842712 2.23606798 2.44948974 2.\n",
      " 1.73205081]\n"
     ]
    }
   ],
   "source": [
    "var=np.array([1,7,8,5,6,4,3])\n",
    "print(\"sqrt:\",np.sqrt(var))"
   ]
  },
  {
   "cell_type": "code",
   "execution_count": 50,
   "id": "0dc73d3e",
   "metadata": {},
   "outputs": [
    {
     "name": "stdout",
     "output_type": "stream",
     "text": [
      "[ 0.84147098  0.6569866   0.98935825 -0.95892427 -0.2794155  -0.7568025\n",
      "  0.14112001]\n"
     ]
    }
   ],
   "source": [
    "var=np.array([1,7,8,5,6,4,3])\n",
    "print(np.sin(var))"
   ]
  },
  {
   "cell_type": "code",
   "execution_count": 51,
   "id": "a4131df0",
   "metadata": {},
   "outputs": [
    {
     "name": "stdout",
     "output_type": "stream",
     "text": [
      "[ 0.54030231  0.75390225 -0.14550003  0.28366219  0.96017029 -0.65364362\n",
      " -0.9899925 ]\n"
     ]
    }
   ],
   "source": [
    "var=np.array([1,7,8,5,6,4,3])\n",
    "print(np.cos(var))"
   ]
  },
  {
   "cell_type": "code",
   "execution_count": 52,
   "id": "602d22d4",
   "metadata": {},
   "outputs": [
    {
     "name": "stdout",
     "output_type": "stream",
     "text": [
      "[1 3 6]\n"
     ]
    }
   ],
   "source": [
    "var=np.array([1,2,3])\n",
    "print(np.cumsum(var))"
   ]
  },
  {
   "cell_type": "markdown",
   "id": "783d2a88",
   "metadata": {},
   "source": [
    "# brodcasting numpy"
   ]
  },
  {
   "cell_type": "code",
   "execution_count": 55,
   "id": "fa191ca0",
   "metadata": {},
   "outputs": [
    {
     "name": "stdout",
     "output_type": "stream",
     "text": [
      "(3,)\n",
      "\n",
      "[1 2 3]\n",
      "\n",
      "(3, 1)\n",
      "\n",
      "[[1]\n",
      " [2]\n",
      " [3]]\n",
      "\n",
      "[[2 3 4]\n",
      " [3 4 5]\n",
      " [4 5 6]]\n"
     ]
    }
   ],
   "source": [
    "var1=np.array([1,2,3])\n",
    "print(var1.shape)\n",
    "print()\n",
    "print(var1)\n",
    "print()\n",
    "\n",
    "var2=np.array([[1],[2],[3]])\n",
    "print(var2.shape)\n",
    "print()\n",
    "print(var2)\n",
    "\n",
    "print()\n",
    "print(var1+var2)\n"
   ]
  },
  {
   "cell_type": "markdown",
   "id": "08ca4bfa",
   "metadata": {},
   "source": [
    "# slicing\n"
   ]
  },
  {
   "cell_type": "code",
   "execution_count": 70,
   "id": "53ed4489",
   "metadata": {},
   "outputs": [
    {
     "name": "stdout",
     "output_type": "stream",
     "text": [
      "[1 2 3 4 5 6]\n",
      "\n",
      "2 to 5: [2 3 4]\n",
      "2 to end: [2 3 4 5 6]\n",
      "start to 5: [1 2 3 4 5]\n",
      "stop: [1 4]\n",
      "stop: [2 4 6]\n"
     ]
    }
   ],
   "source": [
    "var=np.array([1,2,3,4,5,6])\n",
    "print(var)\n",
    "\n",
    "print()\n",
    "\n",
    "print(\"2 to 5:\",var[1:4])\n",
    "print(\"2 to end:\",var[1:])\n",
    "print(\"start to 5:\",var[:5])\n",
    "print(\"stop:\", var[::3])\n",
    "print(\"stop:\",var[1:6:2])"
   ]
  },
  {
   "cell_type": "code",
   "execution_count": 74,
   "id": "e46c764d",
   "metadata": {},
   "outputs": [
    {
     "name": "stdout",
     "output_type": "stream",
     "text": [
      "[[1 2 3 6]\n",
      " [6 8 4 9]\n",
      " [8 1 5 4]]\n",
      "\n",
      "8 to 9: [2 3 6]\n"
     ]
    }
   ],
   "source": [
    "var1=np.array([[1,2,3,6],[6,8,4,9],[8,1,5,4]])\n",
    "print(var1)\n",
    "print()\n",
    "\n",
    "print(\"8 to 9:\",var1[0,1:])"
   ]
  },
  {
   "cell_type": "markdown",
   "id": "a696e06e",
   "metadata": {},
   "source": [
    "# itaration"
   ]
  },
  {
   "cell_type": "code",
   "execution_count": 77,
   "id": "87f82076",
   "metadata": {},
   "outputs": [
    {
     "name": "stdout",
     "output_type": "stream",
     "text": [
      "[9 6 7 4 1 5]\n",
      "\n",
      "9\n",
      "6\n",
      "7\n",
      "4\n",
      "1\n",
      "5\n"
     ]
    }
   ],
   "source": [
    "var=np.array([9,6,7,4,1,5])\n",
    "print(var)\n",
    "print()\n",
    "\n",
    "for i in var:\n",
    "    print(i)"
   ]
  },
  {
   "cell_type": "code",
   "execution_count": 79,
   "id": "c8c38c82",
   "metadata": {},
   "outputs": [
    {
     "name": "stdout",
     "output_type": "stream",
     "text": [
      "[[9 6 7 4 1 5]\n",
      " [9 6 5 3 2 1]]\n",
      "\n",
      "[9 6 7 4 1 5]\n",
      "[9 6 5 3 2 1]\n",
      "\n",
      "9\n",
      "6\n",
      "7\n",
      "4\n",
      "1\n",
      "5\n",
      "9\n",
      "6\n",
      "5\n",
      "3\n",
      "2\n",
      "1\n"
     ]
    }
   ],
   "source": [
    "var=np.array([[9,6,7,4,1,5],[9,6,5,3,2,1]])\n",
    "print(var)\n",
    "print()\n",
    "\n",
    "for j in var:\n",
    "    print(j)\n",
    "print()\n",
    "\n",
    "for k in var:\n",
    "    for l in k:\n",
    "        print(l)"
   ]
  },
  {
   "cell_type": "code",
   "execution_count": 82,
   "id": "100e1aa7",
   "metadata": {},
   "outputs": [
    {
     "name": "stdout",
     "output_type": "stream",
     "text": [
      "[[[1 4 8]\n",
      "  [1 9 6]\n",
      "  [8 6 5]]]\n",
      "\n",
      "3\n",
      "\n",
      "1\n",
      "4\n",
      "8\n",
      "1\n",
      "9\n",
      "6\n",
      "8\n",
      "6\n",
      "5\n"
     ]
    }
   ],
   "source": [
    "var3=np.array([[[1,4,8],[1,9,6],[8,6,5]]])\n",
    "print(var3)\n",
    "print()\n",
    "print(var3.ndim)\n",
    "\n",
    "print()\n",
    "for i in var3:\n",
    "    for j in i:\n",
    "        for k in j:\n",
    "            print(k)"
   ]
  },
  {
   "cell_type": "code",
   "execution_count": 85,
   "id": "d0033c13",
   "metadata": {},
   "outputs": [
    {
     "name": "stdout",
     "output_type": "stream",
     "text": [
      "[[[1 4 8]\n",
      "  [1 9 6]\n",
      "  [8 6 5]]]\n",
      "\n",
      "3\n",
      "1\n",
      "4\n",
      "8\n",
      "1\n",
      "9\n",
      "6\n",
      "8\n",
      "6\n",
      "5\n",
      "\n",
      "(0, 0, 0) 1\n",
      "(0, 0, 1) 4\n",
      "(0, 0, 2) 8\n",
      "(0, 1, 0) 1\n",
      "(0, 1, 1) 9\n",
      "(0, 1, 2) 6\n",
      "(0, 2, 0) 8\n",
      "(0, 2, 1) 6\n",
      "(0, 2, 2) 5\n"
     ]
    }
   ],
   "source": [
    "var3=np.array([[[1,4,8],[1,9,6],[8,6,5]]])\n",
    "print(var3)\n",
    "print()\n",
    "print(var3.ndim)\n",
    "\n",
    "for i in np.nditer(var3):\n",
    "    print(i)\n",
    "    \n",
    "\n",
    "print()  \n",
    "for i,d in np.ndenumerate(var3):\n",
    "    print(i,d)"
   ]
  },
  {
   "cell_type": "code",
   "execution_count": 4,
   "id": "5dbff55b",
   "metadata": {},
   "outputs": [
    {
     "name": "stdout",
     "output_type": "stream",
     "text": [
      "var : [ 1  2 40]\n",
      "co : [1 2 3]\n"
     ]
    }
   ],
   "source": [
    "import numpy as np\n",
    "var= np.array([1,2,3])\n",
    "co= var.copy()\n",
    "\n",
    "var[2]=40\n",
    "\n",
    "print(\"var :\", var)\n",
    "print(\"co :\",co)"
   ]
  },
  {
   "cell_type": "code",
   "execution_count": 5,
   "id": "936d52b9",
   "metadata": {},
   "outputs": [
    {
     "name": "stdout",
     "output_type": "stream",
     "text": [
      "x : [ 9  8 40  6  5]\n",
      "view :  [ 9  8 40  6  5]\n"
     ]
    }
   ],
   "source": [
    "x=np.array([9,8,7,6,5])\n",
    "vi=x.view()\n",
    "\n",
    "vi[2]= 40 \n",
    "\n",
    "print(\"x :\" ,x)\n",
    "print(\"view : \", vi)"
   ]
  },
  {
   "cell_type": "markdown",
   "id": "9cc5d3b9",
   "metadata": {},
   "source": [
    "# JOIN and split"
   ]
  },
  {
   "cell_type": "code",
   "execution_count": 7,
   "id": "2f2f4a96",
   "metadata": {},
   "outputs": [
    {
     "name": "stdout",
     "output_type": "stream",
     "text": [
      "[3 4 6 7 1 2 3 4]\n"
     ]
    }
   ],
   "source": [
    "import numpy as np\n",
    "var= np.array([1,2,3,4])\n",
    "var1=np.array([3,4,6,7])\n",
    "\n",
    "ar= np.concatenate((var1,var))\n",
    "print(ar)"
   ]
  },
  {
   "cell_type": "code",
   "execution_count": 8,
   "id": "188cad3f",
   "metadata": {},
   "outputs": [
    {
     "name": "stdout",
     "output_type": "stream",
     "text": [
      "[[1 2]\n",
      " [3 5]]\n",
      "\n",
      "[[1 2]\n",
      " [3 5]]\n",
      "\n",
      "[[1 2 1 9]\n",
      " [3 5 2 3]]\n"
     ]
    }
   ],
   "source": [
    "import numpy as np\n",
    "var=np.array([[1,2],[3,5]])\n",
    "var1=np.array([[1,9],[2,3]])\n",
    "\n",
    "ar_new=np.concatenate((var,var1),axis=1)\n",
    "\n",
    "print(var)\n",
    "print()\n",
    "print(var)\n",
    "print()\n",
    "print(ar_new)"
   ]
  },
  {
   "cell_type": "code",
   "execution_count": 9,
   "id": "c8c5b1ac",
   "metadata": {},
   "outputs": [
    {
     "name": "stdout",
     "output_type": "stream",
     "text": [
      "[[[1 9]\n",
      "  [2 8]\n",
      "  [3 7]\n",
      "  [4 6]]]\n"
     ]
    }
   ],
   "source": [
    "var_1=np.array([1,2,3,4])\n",
    "var_2=np.array([9,8,7,6])\n",
    "a_new=np.dstack((var_1,var_2)) #HEIGHT\n",
    "print(a_new)"
   ]
  },
  {
   "cell_type": "code",
   "execution_count": 15,
   "id": "15ea7484",
   "metadata": {},
   "outputs": [
    {
     "name": "stdout",
     "output_type": "stream",
     "text": [
      "[[1 9]\n",
      " [2 8]\n",
      " [3 7]\n",
      " [4 6]]\n",
      "\n",
      "[[1 2 3 4]\n",
      " [9 8 7 6]]\n",
      "\n",
      "[1 2 3 4 9 8 7 6]\n"
     ]
    }
   ],
   "source": [
    "var_1=np.array([1,2,3,4])\n",
    "var_2=np.array([9,8,7,6])\n",
    "a_new=np.stack((var_1,var_2),axis=1) \n",
    "a_new1=np.vstack((var_1,var_2))  #col\n",
    "a_new2=np.hstack((var_1,var_2))  #row\n",
    "print(a_new)\n",
    "print()\n",
    "print(a_new1)\n",
    "print()\n",
    "print(a_new2)"
   ]
  },
  {
   "cell_type": "markdown",
   "id": "d0dc488d",
   "metadata": {},
   "source": [
    "# SPLIT ARRAY"
   ]
  },
  {
   "cell_type": "code",
   "execution_count": 17,
   "id": "38edec39",
   "metadata": {},
   "outputs": [
    {
     "name": "stdout",
     "output_type": "stream",
     "text": [
      "[1 2 3 7 8 9]\n",
      "<class 'list'>\n",
      "\n",
      "[array([1, 2]), array([3, 7]), array([8, 9])]\n",
      "[1 2]\n"
     ]
    }
   ],
   "source": [
    "import numpy as np\n",
    "var= np.array([1,2,3,7,8,9])\n",
    "print(var)\n",
    "\n",
    "ar=np.array_split(var,3)\n",
    "print(type(ar))\n",
    "print()\n",
    "print(ar)\n",
    "print(ar[0])\n"
   ]
  },
  {
   "cell_type": "code",
   "execution_count": 21,
   "id": "5e6be5b0",
   "metadata": {},
   "outputs": [
    {
     "name": "stdout",
     "output_type": "stream",
     "text": [
      "[[1 2 3]\n",
      " [2 6 7]]\n",
      "\n",
      "[array([[1, 2, 3]]), array([[2, 6, 7]])]\n",
      "\n",
      "[array([[1, 2],\n",
      "       [2, 6]]), array([[3],\n",
      "       [7]])]\n"
     ]
    }
   ],
   "source": [
    "var1=np.array([[1,2,3],[2,6,7]])\n",
    "print(var1)\n",
    "\n",
    "ar=np.array_split(var1,2)\n",
    "ar1=np.array_split(var1,2,axis=1)\n",
    "print()\n",
    "print(ar)\n",
    "print()\n",
    "print(ar1)\n"
   ]
  },
  {
   "cell_type": "markdown",
   "id": "5d293a52",
   "metadata": {},
   "source": [
    "# search elements"
   ]
  },
  {
   "cell_type": "code",
   "execution_count": 23,
   "id": "c4e27093",
   "metadata": {},
   "outputs": [
    {
     "name": "stdout",
     "output_type": "stream",
     "text": [
      "(array([3, 4, 6], dtype=int64),)\n"
     ]
    }
   ],
   "source": [
    "var=np.array([1,3,4,5,5,2,5,7])\n",
    "\n",
    "x=np.where(var==5)\n",
    "print(x)"
   ]
  },
  {
   "cell_type": "code",
   "execution_count": 25,
   "id": "29566ae0",
   "metadata": {},
   "outputs": [
    {
     "name": "stdout",
     "output_type": "stream",
     "text": [
      "(array([2, 5], dtype=int64),)\n"
     ]
    }
   ],
   "source": [
    "var=np.array([1,3,4,5,5,2,5,7])\n",
    "\n",
    "x=np.where(var%2 == 0)\n",
    "print(x)"
   ]
  },
  {
   "cell_type": "markdown",
   "id": "81a7b9c3",
   "metadata": {},
   "source": [
    "# SORT"
   ]
  },
  {
   "cell_type": "code",
   "execution_count": 26,
   "id": "0e309d8f",
   "metadata": {},
   "outputs": [
    {
     "name": "stdout",
     "output_type": "stream",
     "text": [
      "4\n"
     ]
    }
   ],
   "source": [
    "var1= np.array([1,2,3,4,6,7,8,9])\n",
    "x=np.searchsorted(var1,5,side=\"right\")\n",
    "print(x)"
   ]
  },
  {
   "cell_type": "code",
   "execution_count": 27,
   "id": "ee91076b",
   "metadata": {},
   "outputs": [
    {
     "name": "stdout",
     "output_type": "stream",
     "text": [
      "[4 5 6]\n"
     ]
    }
   ],
   "source": [
    "var1= np.array([1,2,3,4,6,7,8,9])\n",
    "x=np.searchsorted(var1,[5,6,7],side=\"right\")\n",
    "print(x)"
   ]
  },
  {
   "cell_type": "markdown",
   "id": "a72728e4",
   "metadata": {},
   "source": [
    "# sorted array"
   ]
  },
  {
   "cell_type": "code",
   "execution_count": 28,
   "id": "83d56762",
   "metadata": {},
   "outputs": [
    {
     "name": "stdout",
     "output_type": "stream",
     "text": [
      "[ 1  2  3  5  7  9 45 77]\n"
     ]
    }
   ],
   "source": [
    "var_1=np.array([1,7,3,5,45,9,2,77])\n",
    "print(np.sort(var_1))"
   ]
  },
  {
   "cell_type": "code",
   "execution_count": 29,
   "id": "f19d5168",
   "metadata": {},
   "outputs": [
    {
     "name": "stdout",
     "output_type": "stream",
     "text": [
      "[[ 1  4  5]\n",
      " [ 1  2 56]\n",
      " [ 3  8 98]]\n"
     ]
    }
   ],
   "source": [
    "var_1=np.array([[1,4,5],[2,1,56],[8,3,98]])\n",
    "print(np.sort(var_1))"
   ]
  },
  {
   "cell_type": "markdown",
   "id": "30f2d007",
   "metadata": {},
   "source": [
    "# shuffle"
   ]
  },
  {
   "cell_type": "code",
   "execution_count": 30,
   "id": "a4c8d93e",
   "metadata": {},
   "outputs": [
    {
     "name": "stdout",
     "output_type": "stream",
     "text": [
      "[1 2 7 8 3 4]\n"
     ]
    }
   ],
   "source": [
    "var=np.array([1,2,3,4,8,7])\n",
    "\n",
    "np.random.shuffle(var)\n",
    "\n",
    "print(var)"
   ]
  },
  {
   "cell_type": "markdown",
   "id": "d7ed858e",
   "metadata": {},
   "source": [
    "# unique"
   ]
  },
  {
   "cell_type": "code",
   "execution_count": 31,
   "id": "b693e2f4",
   "metadata": {},
   "outputs": [
    {
     "name": "stdout",
     "output_type": "stream",
     "text": [
      "[1 2 3 4 9 4 2 9 5]\n"
     ]
    }
   ],
   "source": [
    "var1=np.array([1,2,3,4,9,4,2,9,5])\n",
    "x=np.unique(var1)\n",
    "print(var1)"
   ]
  },
  {
   "cell_type": "code",
   "execution_count": 38,
   "id": "88e1c3ee",
   "metadata": {},
   "outputs": [
    {
     "name": "stdout",
     "output_type": "stream",
     "text": [
      "[1 2 3 4 9 2 2 7 5]\n",
      "(array([1, 2, 3, 4, 5, 7, 9]), array([0, 1, 2, 3, 8, 7, 4], dtype=int64), array([1, 3, 1, 1, 1, 1, 1], dtype=int64))\n"
     ]
    }
   ],
   "source": [
    "var1=np.array([1,2,3,4,9,2,2,7,5])\n",
    "x=np.unique(var1,return_index=True,return_counts=True)\n",
    "print(var1)\n",
    "print(x)"
   ]
  },
  {
   "cell_type": "code",
   "execution_count": 39,
   "id": "619e04a9",
   "metadata": {},
   "outputs": [
    {
     "name": "stdout",
     "output_type": "stream",
     "text": [
      "[[1 2]\n",
      " [3 4]\n",
      " [5 6]]\n"
     ]
    }
   ],
   "source": [
    "var2=np.array([1,2,3,4,5,6])\n",
    "y=np.resize(var2,(3,2))\n",
    "print(y)"
   ]
  },
  {
   "cell_type": "code",
   "execution_count": 47,
   "id": "b0ca3a64",
   "metadata": {},
   "outputs": [
    {
     "name": "stdout",
     "output_type": "stream",
     "text": [
      "[[1 2]\n",
      " [3 4]\n",
      " [5 6]]\n",
      "\n",
      "[1 2 3 4 5 6]\n",
      "[1 3 5 2 4 6]\n",
      "\n",
      "[1 2 3 4 5 6]\n",
      "\n",
      "Ravel : [1 3 5 2 4 6]\n"
     ]
    }
   ],
   "source": [
    "var2=np.array([1,2,3,4,5,6])\n",
    "y=np.resize(var2,(3,2))\n",
    "print(y)\n",
    "print()\n",
    "print(y.flatten())\n",
    "\n",
    "print(y.flatten(order=\"F\"))\n",
    "print()\n",
    "print(y.flatten(order=\"c\"))\n",
    "\n",
    "print()\n",
    "\n",
    "print(\"Ravel :\",np.ravel(y,order=\"F\"))\n"
   ]
  },
  {
   "cell_type": "markdown",
   "id": "2a1f1292",
   "metadata": {},
   "source": [
    "# delete"
   ]
  },
  {
   "cell_type": "code",
   "execution_count": 49,
   "id": "c9257c40",
   "metadata": {},
   "outputs": [
    {
     "name": "stdout",
     "output_type": "stream",
     "text": [
      "[2 8 9 7]\n",
      "[2 8 9]\n"
     ]
    }
   ],
   "source": [
    "var=np.array([2,8,9,7])\n",
    "print(var)\n",
    "v=np.delete(var,3)\n",
    "print(v)"
   ]
  },
  {
   "cell_type": "markdown",
   "id": "e24381e2",
   "metadata": {},
   "source": [
    "# matrix"
   ]
  },
  {
   "cell_type": "code",
   "execution_count": 51,
   "id": "cb230a0f",
   "metadata": {},
   "outputs": [
    {
     "name": "stdout",
     "output_type": "stream",
     "text": [
      "[[1 3 4]\n",
      " [3 5 6]]\n",
      "\n",
      "<class 'numpy.matrix'>\n"
     ]
    }
   ],
   "source": [
    "var=np.matrix([[1,3,4],[3,5,6]])\n",
    "print(var)\n",
    "print()\n",
    "print(type(var))"
   ]
  },
  {
   "cell_type": "code",
   "execution_count": 52,
   "id": "e69e868f",
   "metadata": {},
   "outputs": [
    {
     "name": "stdout",
     "output_type": "stream",
     "text": [
      "[[1 3]\n",
      " [3 5]\n",
      " [4 6]]\n"
     ]
    }
   ],
   "source": [
    "print(np.transpose(var))"
   ]
  },
  {
   "cell_type": "code",
   "execution_count": 53,
   "id": "293d975d",
   "metadata": {},
   "outputs": [
    {
     "name": "stdout",
     "output_type": "stream",
     "text": [
      "[[1 3]\n",
      " [3 5]\n",
      " [4 6]]\n"
     ]
    }
   ],
   "source": [
    "print(var.T)"
   ]
  },
  {
   "cell_type": "code",
   "execution_count": 54,
   "id": "a78ac3b7",
   "metadata": {},
   "outputs": [
    {
     "name": "stdout",
     "output_type": "stream",
     "text": [
      "[[1 2]\n",
      " [3 4]]\n",
      "\n",
      "[[1 3]\n",
      " [2 4]]\n"
     ]
    }
   ],
   "source": [
    "var2=np.matrix([[1,2],[3,4]])\n",
    "print(var2)\n",
    "print()\n",
    "print(np.swapaxes(var2,0,1))"
   ]
  },
  {
   "cell_type": "code",
   "execution_count": 3,
   "id": "8126b93b",
   "metadata": {},
   "outputs": [
    {
     "ename": "TypeError",
     "evalue": "Field elements must be 2- or 3-tuples, got '1'",
     "output_type": "error",
     "traceback": [
      "\u001b[1;31m---------------------------------------------------------------------------\u001b[0m",
      "\u001b[1;31mTypeError\u001b[0m                                 Traceback (most recent call last)",
      "\u001b[1;32m~\\AppData\\Local\\Temp\\ipykernel_39084\\1527281942.py\u001b[0m in \u001b[0;36m<module>\u001b[1;34m\u001b[0m\n\u001b[0;32m      1\u001b[0m \u001b[1;32mimport\u001b[0m \u001b[0mnumpy\u001b[0m \u001b[1;32mas\u001b[0m \u001b[0mnp\u001b[0m\u001b[1;33m\u001b[0m\u001b[1;33m\u001b[0m\u001b[0m\n\u001b[1;32m----> 2\u001b[1;33m \u001b[0mvar1\u001b[0m\u001b[1;33m=\u001b[0m\u001b[0mnp\u001b[0m\u001b[1;33m.\u001b[0m\u001b[0mmatrix\u001b[0m\u001b[1;33m(\u001b[0m\u001b[1;33m[\u001b[0m\u001b[1;36m1\u001b[0m\u001b[1;33m,\u001b[0m\u001b[1;36m2\u001b[0m\u001b[1;33m,\u001b[0m\u001b[1;36m3\u001b[0m\u001b[1;33m]\u001b[0m\u001b[1;33m,\u001b[0m\u001b[1;33m[\u001b[0m\u001b[1;36m1\u001b[0m\u001b[1;33m,\u001b[0m\u001b[1;36m3\u001b[0m\u001b[1;33m,\u001b[0m\u001b[1;36m4\u001b[0m\u001b[1;33m]\u001b[0m\u001b[1;33m)\u001b[0m\u001b[1;33m\u001b[0m\u001b[1;33m\u001b[0m\u001b[0m\n\u001b[0m\u001b[0;32m      3\u001b[0m \u001b[0mvar2\u001b[0m\u001b[1;33m=\u001b[0m\u001b[0mnp\u001b[0m\u001b[1;33m.\u001b[0m\u001b[0mmatrix\u001b[0m\u001b[1;33m(\u001b[0m\u001b[1;33m[\u001b[0m\u001b[1;33m[\u001b[0m\u001b[1;36m1\u001b[0m\u001b[1;33m,\u001b[0m\u001b[1;36m5\u001b[0m\u001b[1;33m,\u001b[0m\u001b[1;36m9\u001b[0m\u001b[1;33m]\u001b[0m\u001b[1;33m,\u001b[0m\u001b[1;33m[\u001b[0m\u001b[1;36m3\u001b[0m\u001b[1;33m,\u001b[0m\u001b[1;36m5\u001b[0m\u001b[1;33m,\u001b[0m\u001b[1;36m6\u001b[0m\u001b[1;33m]\u001b[0m\u001b[1;33m]\u001b[0m\u001b[1;33m)\u001b[0m\u001b[1;33m\u001b[0m\u001b[1;33m\u001b[0m\u001b[0m\n\u001b[0;32m      4\u001b[0m \u001b[0mprint\u001b[0m\u001b[1;33m(\u001b[0m\u001b[0mvar1\u001b[0m\u001b[1;33m)\u001b[0m\u001b[1;33m\u001b[0m\u001b[1;33m\u001b[0m\u001b[0m\n\u001b[0;32m      5\u001b[0m \u001b[0mprint\u001b[0m\u001b[1;33m(\u001b[0m\u001b[0mvar1\u001b[0m \u001b[1;33m+\u001b[0m \u001b[0mvar2\u001b[0m\u001b[1;33m)\u001b[0m\u001b[1;33m\u001b[0m\u001b[1;33m\u001b[0m\u001b[0m\n",
      "\u001b[1;32m~\\anaconda3\\lib\\site-packages\\numpy\\matrixlib\\defmatrix.py\u001b[0m in \u001b[0;36m__new__\u001b[1;34m(subtype, data, dtype, copy)\u001b[0m\n\u001b[0;32m    143\u001b[0m \u001b[1;33m\u001b[0m\u001b[0m\n\u001b[0;32m    144\u001b[0m         \u001b[1;31m# now convert data to an array\u001b[0m\u001b[1;33m\u001b[0m\u001b[1;33m\u001b[0m\u001b[0m\n\u001b[1;32m--> 145\u001b[1;33m         \u001b[0marr\u001b[0m \u001b[1;33m=\u001b[0m \u001b[0mN\u001b[0m\u001b[1;33m.\u001b[0m\u001b[0marray\u001b[0m\u001b[1;33m(\u001b[0m\u001b[0mdata\u001b[0m\u001b[1;33m,\u001b[0m \u001b[0mdtype\u001b[0m\u001b[1;33m=\u001b[0m\u001b[0mdtype\u001b[0m\u001b[1;33m,\u001b[0m \u001b[0mcopy\u001b[0m\u001b[1;33m=\u001b[0m\u001b[0mcopy\u001b[0m\u001b[1;33m)\u001b[0m\u001b[1;33m\u001b[0m\u001b[1;33m\u001b[0m\u001b[0m\n\u001b[0m\u001b[0;32m    146\u001b[0m         \u001b[0mndim\u001b[0m \u001b[1;33m=\u001b[0m \u001b[0marr\u001b[0m\u001b[1;33m.\u001b[0m\u001b[0mndim\u001b[0m\u001b[1;33m\u001b[0m\u001b[1;33m\u001b[0m\u001b[0m\n\u001b[0;32m    147\u001b[0m         \u001b[0mshape\u001b[0m \u001b[1;33m=\u001b[0m \u001b[0marr\u001b[0m\u001b[1;33m.\u001b[0m\u001b[0mshape\u001b[0m\u001b[1;33m\u001b[0m\u001b[1;33m\u001b[0m\u001b[0m\n",
      "\u001b[1;31mTypeError\u001b[0m: Field elements must be 2- or 3-tuples, got '1'"
     ]
    }
   ],
   "source": [
    "import numpy as np\n",
    "var1=np.matrix([1,2,3],[1,3,4])\n",
    "var2=np.matrix([[1,5,9],[3,5,6]])\n",
    "print(var1)\n",
    "print(var1 + var2)"
   ]
  },
  {
   "cell_type": "code",
   "execution_count": null,
   "id": "21d5c297",
   "metadata": {},
   "outputs": [],
   "source": []
  }
 ],
 "metadata": {
  "kernelspec": {
   "display_name": "Python 3 (ipykernel)",
   "language": "python",
   "name": "python3"
  },
  "language_info": {
   "codemirror_mode": {
    "name": "ipython",
    "version": 3
   },
   "file_extension": ".py",
   "mimetype": "text/x-python",
   "name": "python",
   "nbconvert_exporter": "python",
   "pygments_lexer": "ipython3",
   "version": "3.9.13"
  }
 },
 "nbformat": 4,
 "nbformat_minor": 5
}
